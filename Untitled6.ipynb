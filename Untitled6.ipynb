{
 "cells": [
  {
   "cell_type": "code",
   "execution_count": 1,
   "id": "7b907a6a-6323-4dcc-a961-3a06c0c0a93f",
   "metadata": {},
   "outputs": [],
   "source": [
    "#Q1. What is Abstraction in OOps? Explain with an example.\n",
    "#ans:- Abstraction is the process of hiding the internal details of an application from the outside world.\n",
    "# e.g :- When we are driving the car we are concerned about only how to start and stop, accelerator,break etc not about the engine functions.\n",
    "\n",
    "\n",
    "#Q2. Differentiate between Abstraction and Encapsulation. Explain with an example.\n",
    "#ans:- Abstraction is about hiding the internal details from the user. but encapsulation means to protect the data from the user.\n",
    "\n",
    "\n",
    "#Q3. What is abc module in python? Why is it used?\n",
    "#python has a module called abc(abstract base class) that offers the necessary tools for crafting an abstract base class.\n",
    "\n",
    "#Q4. How can we achieve data abstraction?\n",
    "#Data abstraction in python can be achieved through creating abstract classes and inheriting them later.\n",
    "\n",
    "\n",
    "#Q5. Can we create an instance of an abstract class? Explain your answer.\n",
    "#no we can not create instance of abstract class."
   ]
  },
  {
   "cell_type": "code",
   "execution_count": null,
   "id": "d293f41d-44bc-4b1b-aec8-bcdf8cd9d031",
   "metadata": {},
   "outputs": [],
   "source": []
  }
 ],
 "metadata": {
  "kernelspec": {
   "display_name": "Python 3 (ipykernel)",
   "language": "python",
   "name": "python3"
  },
  "language_info": {
   "codemirror_mode": {
    "name": "ipython",
    "version": 3
   },
   "file_extension": ".py",
   "mimetype": "text/x-python",
   "name": "python",
   "nbconvert_exporter": "python",
   "pygments_lexer": "ipython3",
   "version": "3.10.8"
  }
 },
 "nbformat": 4,
 "nbformat_minor": 5
}
